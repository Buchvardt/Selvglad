{
 "cells": [
  {
   "cell_type": "markdown",
   "metadata": {},
   "source": [
    "# Sentiment analyse Selvglad\n",
    "\n",
    "Min fantastiske kone er med på holdet bag succesen SELVGLAD der har bragt public service til en svær målgruppe -nemlig de unge, via YouTube.\n",
    "En af karakteristikaerne ved streaming tjenester er, at de klassiske kvantitative målinger som klik, antal minutter, delinger osv. bliver suppleret af et direkte \"tap\" ind målgruppens temperatur. Men, hvordan kvantificerer vi disse kvalitative \"værdibomber\" som kommentarsporerne udgør?\n",
    "\n",
    "## Sentiment analyse\n",
    "En metode er sentiment analyse hvor man helt simpelt rater kommentarerne på en positiv vs. negativ skala. For at komme hurtigt i gang har jeg benyttet dette fine tool via Python:\n",
    "\n",
    "https://github.com/fnielsen/afinn/blob/master/notebooks/CrowdFlower%20Twitter%20sentiment%20analysis.ipynb\n",
    "\n",
    "### Scrab kommentarsporet fra afsnit 1:\n"
   ]
  },
  {
   "cell_type": "code",
   "execution_count": 49,
   "metadata": {},
   "outputs": [],
   "source": [
    "from selenium import webdriver\n",
    "\n",
    "import time\n",
    "\n",
    "driver=webdriver.Chrome()\n",
    "\n",
    "driver.get('https://www.youtube.com/watch?v=5mTh6ZfxDwM&t=9s')\n",
    "\n",
    "driver.execute_script('window.scrollTo(1, 500);')\n",
    "\n",
    "#now wait let load the comments\n",
    "time.sleep(5)\n",
    "\n",
    "driver.execute_script('window.scrollTo(1, 3000);')\n",
    "\n",
    "\n",
    "\n",
    "comment_div=driver.find_element_by_xpath('//*[@id=\"contents\"]')\n",
    "comments=comment_div.find_elements_by_xpath('//*[@id=\"content-text\"]')\n"
   ]
  },
  {
   "cell_type": "markdown",
   "metadata": {},
   "source": [
    "### Tilføj sentiment score"
   ]
  },
  {
   "cell_type": "code",
   "execution_count": 66,
   "metadata": {},
   "outputs": [],
   "source": [
    "from __future__ import division\n",
    "from afinn import Afinn\n",
    "import numpy as np\n",
    "import pandas as pd"
   ]
  },
  {
   "cell_type": "code",
   "execution_count": 120,
   "metadata": {
    "scrolled": true
   },
   "outputs": [
    {
     "data": {
      "text/html": [
       "<div>\n",
       "<style scoped>\n",
       "    .dataframe tbody tr th:only-of-type {\n",
       "        vertical-align: middle;\n",
       "    }\n",
       "\n",
       "    .dataframe tbody tr th {\n",
       "        vertical-align: top;\n",
       "    }\n",
       "\n",
       "    .dataframe thead th {\n",
       "        text-align: right;\n",
       "    }\n",
       "</style>\n",
       "<table border=\"1\" class=\"dataframe\">\n",
       "  <thead>\n",
       "    <tr style=\"text-align: right;\">\n",
       "      <th></th>\n",
       "      <th>tekst</th>\n",
       "      <th>score</th>\n",
       "    </tr>\n",
       "  </thead>\n",
       "  <tbody>\n",
       "    <tr>\n",
       "      <th>0</th>\n",
       "      <td>Jeg er også overvægtig men jeg svømmer 3 gange...</td>\n",
       "      <td>-2</td>\n",
       "    </tr>\n",
       "    <tr>\n",
       "      <th>1</th>\n",
       "      <td>Og der er ikke idealer for men? Det er næsten ...</td>\n",
       "      <td>-10</td>\n",
       "    </tr>\n",
       "    <tr>\n",
       "      <th>2</th>\n",
       "      <td>Ville du turde gå i undertøj ned gennem gågaden?</td>\n",
       "      <td>2</td>\n",
       "    </tr>\n",
       "    <tr>\n",
       "      <th>3</th>\n",
       "      <td>I er sindsigt smukke allesammen ingen pænere e...</td>\n",
       "      <td>2</td>\n",
       "    </tr>\n",
       "    <tr>\n",
       "      <th>4</th>\n",
       "      <td>Hvor er I seje!!! 💪</td>\n",
       "      <td>0</td>\n",
       "    </tr>\n",
       "    <tr>\n",
       "      <th>5</th>\n",
       "      <td>Det her, er det man kalder stærke piger!!!</td>\n",
       "      <td>0</td>\n",
       "    </tr>\n",
       "    <tr>\n",
       "      <th>6</th>\n",
       "      <td>alle de piger er bare såååå luksus de er bare ...</td>\n",
       "      <td>5</td>\n",
       "    </tr>\n",
       "    <tr>\n",
       "      <th>7</th>\n",
       "      <td>Wtf</td>\n",
       "      <td>-2</td>\n",
       "    </tr>\n",
       "    <tr>\n",
       "      <th>8</th>\n",
       "      <td>Det er vildt fedt at i har lavet sådan et prog...</td>\n",
       "      <td>2</td>\n",
       "    </tr>\n",
       "    <tr>\n",
       "      <th>9</th>\n",
       "      <td>Victoria er min fætter kæreste</td>\n",
       "      <td>2</td>\n",
       "    </tr>\n",
       "    <tr>\n",
       "      <th>10</th>\n",
       "      <td>Jeg syntes at i er så MEGA FU*IN seje så det e...</td>\n",
       "      <td>2</td>\n",
       "    </tr>\n",
       "    <tr>\n",
       "      <th>11</th>\n",
       "      <td>Haløj</td>\n",
       "      <td>0</td>\n",
       "    </tr>\n",
       "    <tr>\n",
       "      <th>12</th>\n",
       "      <td>Ceggr</td>\n",
       "      <td>0</td>\n",
       "    </tr>\n",
       "    <tr>\n",
       "      <th>13</th>\n",
       "      <td>Hej</td>\n",
       "      <td>0</td>\n",
       "    </tr>\n",
       "  </tbody>\n",
       "</table>\n",
       "</div>"
      ],
      "text/plain": [
       "                                                tekst score\n",
       "0   Jeg er også overvægtig men jeg svømmer 3 gange...    -2\n",
       "1   Og der er ikke idealer for men? Det er næsten ...   -10\n",
       "2    Ville du turde gå i undertøj ned gennem gågaden?     2\n",
       "3   I er sindsigt smukke allesammen ingen pænere e...     2\n",
       "4                                 Hvor er I seje!!! 💪     0\n",
       "5          Det her, er det man kalder stærke piger!!!     0\n",
       "6   alle de piger er bare såååå luksus de er bare ...     5\n",
       "7                                                 Wtf    -2\n",
       "8   Det er vildt fedt at i har lavet sådan et prog...     2\n",
       "9                      Victoria er min fætter kæreste     2\n",
       "10  Jeg syntes at i er så MEGA FU*IN seje så det e...     2\n",
       "11                                              Haløj     0\n",
       "12                                              Ceggr     0\n",
       "13                                                Hej     0"
      ]
     },
     "execution_count": 120,
     "metadata": {},
     "output_type": "execute_result"
    }
   ],
   "source": [
    "afinn = Afinn(language=\"da\")\n",
    "df = pd.DataFrame(columns=['tekst', 'score'])\n",
    "for i in range(0, len(comments)):\n",
    "    df.loc[i, 'tekst'] = comments[i].text\n",
    "    df.loc[i, 'score'] = afinn.score(comments[i].text)\n",
    "df\n"
   ]
  },
  {
   "cell_type": "markdown",
   "metadata": {},
   "source": [
    "### Summer negative vs. positive\n",
    "Nu er data scrabet og beriget med en sentiment score. Nu kan vi summere og visualisere data for at opnå indsigt.\n"
   ]
  },
  {
   "cell_type": "code",
   "execution_count": 115,
   "metadata": {},
   "outputs": [
    {
     "name": "stdout",
     "output_type": "stream",
     "text": [
      "Negative kommentarer udgør 21.43 %\n"
     ]
    }
   ],
   "source": [
    "#Negative\n",
    "neg_kom = round((sum(1 for i in df['score'] if i < 0)/len(df) * 100),2)\n",
    "print(\"Negative kommentarer udgør\" , neg_kom,\"%\")"
   ]
  },
  {
   "cell_type": "code",
   "execution_count": 116,
   "metadata": {},
   "outputs": [
    {
     "name": "stdout",
     "output_type": "stream",
     "text": [
      "Positive kommentarer udgør 42.86 %\n"
     ]
    }
   ],
   "source": [
    "#Positive\n",
    "pos_kom = round((sum(1 for i in df['score'] if i > 0)/len(df)*100),2)\n",
    "print(\"Positive kommentarer udgør\",pos_kom ,\"%\")"
   ]
  },
  {
   "cell_type": "code",
   "execution_count": 117,
   "metadata": {},
   "outputs": [
    {
     "name": "stdout",
     "output_type": "stream",
     "text": [
      "Neutrale kommentarer udgør 35.71 %\n"
     ]
    }
   ],
   "source": [
    "#Neutrale\n",
    "neu_kom = round((sum(1 for i in df['score'] if i == 0)/len(df)*100),2)\n",
    "print(\"Neutrale kommentarer udgør\", neu_kom ,\"%\")"
   ]
  },
  {
   "cell_type": "markdown",
   "metadata": {},
   "source": [
    "Man kan argumentere for, at en neutral kommentar skal anses for værende positiv idé der er en modtager som har brugt tid på at formulere noget, som ikke kan kategoriseres som negativt. Det er selvfølgelig et spørgsmål om perspektiv. "
   ]
  },
  {
   "cell_type": "code",
   "execution_count": 124,
   "metadata": {},
   "outputs": [
    {
     "name": "stdout",
     "output_type": "stream",
     "text": [
      "Ikke negative kommentarer udgør 78.57 %\n"
     ]
    }
   ],
   "source": [
    "ikk_neg = round((sum(1 for i in df['score'] if i >= 0)/len(df)*100),2)\n",
    "print(\"Ikke negative kommentarer udgør\" , ikk_neg ,\"%\")"
   ]
  },
  {
   "cell_type": "code",
   "execution_count": 125,
   "metadata": {},
   "outputs": [
    {
     "data": {
      "text/html": [
       "<div>\n",
       "<style scoped>\n",
       "    .dataframe tbody tr th:only-of-type {\n",
       "        vertical-align: middle;\n",
       "    }\n",
       "\n",
       "    .dataframe tbody tr th {\n",
       "        vertical-align: top;\n",
       "    }\n",
       "\n",
       "    .dataframe thead th {\n",
       "        text-align: right;\n",
       "    }\n",
       "</style>\n",
       "<table border=\"1\" class=\"dataframe\">\n",
       "  <thead>\n",
       "    <tr style=\"text-align: right;\">\n",
       "      <th></th>\n",
       "      <th>tekst</th>\n",
       "      <th>score</th>\n",
       "      <th>sentiment</th>\n",
       "    </tr>\n",
       "  </thead>\n",
       "  <tbody>\n",
       "    <tr>\n",
       "      <th>0</th>\n",
       "      <td>Jeg er også overvægtig men jeg svømmer 3 gange...</td>\n",
       "      <td>-2</td>\n",
       "      <td>Negativ</td>\n",
       "    </tr>\n",
       "    <tr>\n",
       "      <th>1</th>\n",
       "      <td>Og der er ikke idealer for men? Det er næsten ...</td>\n",
       "      <td>-10</td>\n",
       "      <td>Negativ</td>\n",
       "    </tr>\n",
       "    <tr>\n",
       "      <th>2</th>\n",
       "      <td>Ville du turde gå i undertøj ned gennem gågaden?</td>\n",
       "      <td>2</td>\n",
       "      <td>Positiv</td>\n",
       "    </tr>\n",
       "    <tr>\n",
       "      <th>3</th>\n",
       "      <td>I er sindsigt smukke allesammen ingen pænere e...</td>\n",
       "      <td>2</td>\n",
       "      <td>Positiv</td>\n",
       "    </tr>\n",
       "    <tr>\n",
       "      <th>4</th>\n",
       "      <td>Hvor er I seje!!! 💪</td>\n",
       "      <td>0</td>\n",
       "      <td>Neutral</td>\n",
       "    </tr>\n",
       "    <tr>\n",
       "      <th>5</th>\n",
       "      <td>Det her, er det man kalder stærke piger!!!</td>\n",
       "      <td>0</td>\n",
       "      <td>Neutral</td>\n",
       "    </tr>\n",
       "    <tr>\n",
       "      <th>6</th>\n",
       "      <td>alle de piger er bare såååå luksus de er bare ...</td>\n",
       "      <td>5</td>\n",
       "      <td>Positiv</td>\n",
       "    </tr>\n",
       "    <tr>\n",
       "      <th>7</th>\n",
       "      <td>Wtf</td>\n",
       "      <td>-2</td>\n",
       "      <td>Negativ</td>\n",
       "    </tr>\n",
       "    <tr>\n",
       "      <th>8</th>\n",
       "      <td>Det er vildt fedt at i har lavet sådan et prog...</td>\n",
       "      <td>2</td>\n",
       "      <td>Positiv</td>\n",
       "    </tr>\n",
       "    <tr>\n",
       "      <th>9</th>\n",
       "      <td>Victoria er min fætter kæreste</td>\n",
       "      <td>2</td>\n",
       "      <td>Positiv</td>\n",
       "    </tr>\n",
       "    <tr>\n",
       "      <th>10</th>\n",
       "      <td>Jeg syntes at i er så MEGA FU*IN seje så det e...</td>\n",
       "      <td>2</td>\n",
       "      <td>Positiv</td>\n",
       "    </tr>\n",
       "    <tr>\n",
       "      <th>11</th>\n",
       "      <td>Haløj</td>\n",
       "      <td>0</td>\n",
       "      <td>Neutral</td>\n",
       "    </tr>\n",
       "    <tr>\n",
       "      <th>12</th>\n",
       "      <td>Ceggr</td>\n",
       "      <td>0</td>\n",
       "      <td>Neutral</td>\n",
       "    </tr>\n",
       "    <tr>\n",
       "      <th>13</th>\n",
       "      <td>Hej</td>\n",
       "      <td>0</td>\n",
       "      <td>Neutral</td>\n",
       "    </tr>\n",
       "  </tbody>\n",
       "</table>\n",
       "</div>"
      ],
      "text/plain": [
       "                                                tekst score sentiment\n",
       "0   Jeg er også overvægtig men jeg svømmer 3 gange...    -2   Negativ\n",
       "1   Og der er ikke idealer for men? Det er næsten ...   -10   Negativ\n",
       "2    Ville du turde gå i undertøj ned gennem gågaden?     2   Positiv\n",
       "3   I er sindsigt smukke allesammen ingen pænere e...     2   Positiv\n",
       "4                                 Hvor er I seje!!! 💪     0   Neutral\n",
       "5          Det her, er det man kalder stærke piger!!!     0   Neutral\n",
       "6   alle de piger er bare såååå luksus de er bare ...     5   Positiv\n",
       "7                                                 Wtf    -2   Negativ\n",
       "8   Det er vildt fedt at i har lavet sådan et prog...     2   Positiv\n",
       "9                      Victoria er min fætter kæreste     2   Positiv\n",
       "10  Jeg syntes at i er så MEGA FU*IN seje så det e...     2   Positiv\n",
       "11                                              Haløj     0   Neutral\n",
       "12                                              Ceggr     0   Neutral\n",
       "13                                                Hej     0   Neutral"
      ]
     },
     "execution_count": 125,
     "metadata": {},
     "output_type": "execute_result"
    }
   ],
   "source": [
    "#Tilføj kolonne\n",
    "for i in range(0, len(df)):\n",
    "    score = df['score'][i]\n",
    "    tmp = \"\"\n",
    "    if score < 0:\n",
    "        tmp = \"Negativ\"\n",
    "    elif score > 0:\n",
    "        tmp = \"Positiv\"\n",
    "    else:\n",
    "        tmp = \"Neutral\"\n",
    "    df.loc[i, 'sentiment'] = tmp    \n",
    "df        "
   ]
  },
  {
   "cell_type": "code",
   "execution_count": 126,
   "metadata": {},
   "outputs": [
    {
     "data": {
      "image/png": "[encoded data removed]",
      "text/plain": [
       "<Figure size 432x288 with 1 Axes>"
      ]
     },
     "metadata": {},
     "output_type": "display_data"
    }
   ],
   "source": [
    "import matplotlib.pyplot as plt\n",
    "import numpy as np\n",
    "\n",
    "sentiment = [\"Negativ\", \"Positiv\", \"Neutral\", \"Ikke Negativ\"]\n",
    "procent = [neg_kom, pos_kom, neu_kom, ikk_neg]\n",
    "\n",
    "fig, ax = plt.subplots()\n",
    "plt.bar(sentiment, procent)\n",
    "plt.show()"
   ]
  },
  {
   "cell_type": "markdown",
   "metadata": {},
   "source": [
    "## Perspektivering\n",
    "Dette var blot et YouTube klip med 14 kommentarer som blev analyseret som Proof of Concept. En komplet analyse vil eksempelvis indeholde data fra flere sociale medier som twitter og Facebook med mulighed for at sammenligne \"temperaturen\" på tværs af de forskellige platforme. Som man også kan se, er sentiment scoren ikke spot on. Det kan derfor være interessant at se om en bedre ordrepræsentation (embedding) kan forbedre resultatet. "
   ]
  }
 ],
 "metadata": {
  "kernelspec": {
   "display_name": "Python 3",
   "language": "python",
   "name": "python3"
  },
  "language_info": {
   "codemirror_mode": {
    "name": "ipython",
    "version": 3
   },
   "file_extension": ".py",
   "mimetype": "text/x-python",
   "name": "python",
   "nbconvert_exporter": "python",
   "pygments_lexer": "ipython3",
   "version": "3.6.6"
  }
 },
 "nbformat": 4,
 "nbformat_minor": 2
}
